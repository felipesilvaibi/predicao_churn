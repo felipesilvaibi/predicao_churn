{
 "cells": [
  {
   "cell_type": "code",
   "execution_count": null,
   "metadata": {},
   "outputs": [],
   "source": [
    "d2 = pd.read_excel('../data/quality_score.xlsx',\n",
    "                   sheet_name=['out20', 'nov20', 'dez20', 'jan21', 'fev21', 'mar21', 'abr21', 'mai21', 'jun21', 'jul21', 'ago21', 'set21', 'out21'])\n"
   ]
  },
  {
   "cell_type": "code",
   "execution_count": null,
   "metadata": {},
   "outputs": [],
   "source": [
    "df = df.join(pd.read_excel(\n",
    "    '../data/quality_score.xlsx').set_index('ID SAP'), on='ID SAP')\n"
   ]
  },
  {
   "cell_type": "code",
   "execution_count": null,
   "metadata": {},
   "outputs": [],
   "source": [
    "df['classificacao_pagamento'].replace(\n",
    "    {\"3. Ruim\": \"Ruim\", \"2. Regular\": \"Regular\", \"1. Bom\": \"Bom\", \"4. Péssimo\": \"Péssimo\"}, inplace=True)\n",
    "df['classificacao_pagamento'].unique()\n"
   ]
  }
 ],
 "metadata": {
  "language_info": {
   "name": "python"
  },
  "orig_nbformat": 4
 },
 "nbformat": 4,
 "nbformat_minor": 2
}
