{
  "cells": [
    {
      "cell_type": "code",
      "execution_count": null,
      "metadata": {
        "id": "lbtIj3D3X8I9"
      },
      "outputs": [],
      "source": [
        "import pandas as pd\n",
        "import seaborn as sns \n",
        "import numpy as np \n",
        "import matplotlib.pyplot as plt\n",
        "from unidecode import unidecode\n",
        "import re"
      ]
    },
    {
      "cell_type": "code",
      "execution_count": null,
      "metadata": {
        "id": "ndh0x3m7YEM-"
      },
      "outputs": [],
      "source": [
        "df = pd.read_excel('CarteirasTotais-DNC_V2.xlsx')"
      ]
    },
    {
      "cell_type": "code",
      "execution_count": null,
      "metadata": {
        "colab": {
          "base_uri": "https://localhost:8080/",
          "height": 409
        },
        "id": "7tY05SWqZs1_",
        "outputId": "e0ec5d2d-60b9-4937-d96a-d1eeb37cf8a8"
      },
      "outputs": [],
      "source": [
        "df.head()"
      ]
    },
    {
      "cell_type": "markdown",
      "metadata": {
        "id": "6ocfsa0WCsjb"
      },
      "source": [
        "Remoção dos acentos das colunas e alteração dos caracteres diferentes de alfa numérico para \"_\""
      ]
    },
    {
      "cell_type": "code",
      "execution_count": null,
      "metadata": {
        "id": "UO55seAEYmLr"
      },
      "outputs": [],
      "source": [
        "newColumnsName = []\n",
        "for column_name in df:\n",
        "  newColumnsName.append(re.sub('[^A-Za-z0-9]+', '_', unidecode(column_name).lower()))\n",
        "df.columns = newColumnsName"
      ]
    },
    {
      "cell_type": "markdown",
      "metadata": {
        "id": "cYoKxI9ECcJZ"
      },
      "source": [
        "Criação da coluna churn, e definição do seu valor com base nos valores da coluna upsale_downsale (churn = 1, demais valores = 0)"
      ]
    },
    {
      "cell_type": "code",
      "execution_count": null,
      "metadata": {
        "id": "NkMDbwcNB7dx"
      },
      "outputs": [],
      "source": [
        "df[\"upsale_downsale\"].replace({\"Churn\": \"churn\", \"Upsell\": \"upsell\", \"Downsell\": \"downsell\", \"Ok\":\"ok\"}, inplace=True)\n",
        "df['churn'] = df['upsale_downsale']\n",
        "df['churn'].replace({\"ok\": '0', \"upsell\": '0', \"downsell\": '0', \"churn\": '1'}, inplace=True)"
      ]
    },
    {
      "cell_type": "markdown",
      "metadata": {
        "id": "J4oOw-fm_UGA"
      },
      "source": [
        "Remoção das colunas não interessantes"
      ]
    },
    {
      "cell_type": "code",
      "execution_count": null,
      "metadata": {
        "id": "uHifwaW-BAFJ"
      },
      "outputs": [],
      "source": [
        "df = df.drop(columns=['id_crm', 'id_navplat', 'valor_hoje', 'upsale_downsale', 'executivo_carteira_atual', 'leads_form', 'leads_ver_dato', 'total_de_listings', 'faixa_listings'])"
      ]
    },
    {
      "cell_type": "markdown",
      "metadata": {
        "id": "hgAi7XVtIYGn"
      },
      "source": [
        "Gráfico de correlação das variáveis permanecentes (verificar para alterar a coluna churn para inteiro, e então utilizar no gráfico)"
      ]
    },
    {
      "cell_type": "code",
      "execution_count": null,
      "metadata": {
        "colab": {
          "base_uri": "https://localhost:8080/",
          "height": 1000
        },
        "id": "NRwG0BkechPO",
        "outputId": "63184bd4-c6b6-42eb-b338-352924ba3bb2"
      },
      "outputs": [],
      "source": [
        "correlation = df.corr()\n",
        "\n",
        "fig, ax = plt.subplots(figsize=(15,15)) \n",
        "plot = sns.heatmap(correlation, annot = True, ax=ax , linewidths=2)\n",
        "plot"
      ]
    },
    {
      "cell_type": "code",
      "execution_count": null,
      "metadata": {
        "colab": {
          "base_uri": "https://localhost:8080/",
          "height": 374
        },
        "id": "vz_eghl0fFil",
        "outputId": "015d7e72-9129-45a4-c58d-c0363cfbab52"
      },
      "outputs": [],
      "source": [
        "df.head()"
      ]
    },
    {
      "cell_type": "markdown",
      "metadata": {
        "id": "Srhs7gNFB67w"
      },
      "source": [
        "Remoção de colunas cuja correlação entre si é muito alta (somente deixando uma delas)\n",
        "\n",
        "* valor_mensal e faturamento - 0.95\n",
        "* utilizado_ofertas_simples e total_utlizado - 0.96\n",
        "* total_contratado e contratado_ofertas_simples - 1\n",
        "* contratado_destaques e utilizado_destaques - 0.96\n",
        "\n",
        "Obs.: A correlação entre contratado super destaque e Leads é bem alta. Mas a principio entendi que deve ser mantido mas é bom avaliar questao com ImóvelWeb"
      ]
    },
    {
      "cell_type": "code",
      "execution_count": null,
      "metadata": {
        "colab": {
          "base_uri": "https://localhost:8080/"
        },
        "id": "w0TvPCweCNiO",
        "outputId": "b1206e92-00aa-4904-ed05-7acad2fd9e95"
      },
      "outputs": [],
      "source": [
        "df.columns"
      ]
    },
    {
      "cell_type": "code",
      "execution_count": null,
      "metadata": {
        "id": "zdHo0DeLB4Ny"
      },
      "outputs": [],
      "source": [
        "df = df.drop(columns=['valor_mensal','utilizado_destaque','utilizado_ofertas_simples','contratado_ofertas_simples'])"
      ]
    },
    {
      "cell_type": "code",
      "execution_count": null,
      "metadata": {
        "colab": {
          "base_uri": "https://localhost:8080/",
          "height": 374
        },
        "id": "cuNcej4mIZ4T",
        "outputId": "4112f073-9ecd-4634-d1f5-08aecf589ddd"
      },
      "outputs": [],
      "source": [
        "df.head()"
      ]
    },
    {
      "cell_type": "code",
      "execution_count": null,
      "metadata": {
        "colab": {
          "base_uri": "https://localhost:8080/"
        },
        "id": "k-WjPWjyIekH",
        "outputId": "b8dd3470-f7c6-4237-cab7-6070e8ade0b6"
      },
      "outputs": [],
      "source": [
        "df.dtypes"
      ]
    },
    {
      "cell_type": "markdown",
      "metadata": {
        "id": "7aiBKYZRRDnt"
      },
      "source": [
        "obs. as colunas com valores numéricos não necessitam formatação\n",
        "\n",
        "obs2. a principio irei manter a coluna mês com a formatação que está por motivos de pouco tempo"
      ]
    },
    {
      "cell_type": "markdown",
      "metadata": {
        "id": "h2Q3UjMcKLDg"
      },
      "source": [
        "Drop na coluna 'Status final' por ser irrelevante ao negócio sendo somente importante a informção de churn e não churn"
      ]
    },
    {
      "cell_type": "code",
      "execution_count": null,
      "metadata": {
        "id": "5q-AJF6vKJyZ"
      },
      "outputs": [],
      "source": [
        "df = df.drop(columns=['status_final'])"
      ]
    },
    {
      "cell_type": "markdown",
      "metadata": {
        "id": "x1IFExszK3I0"
      },
      "source": [
        "Tentativa de tratar planilha de quality score - ignorar pelo momento"
      ]
    },
    {
      "cell_type": "code",
      "execution_count": null,
      "metadata": {
        "colab": {
          "base_uri": "https://localhost:8080/"
        },
        "id": "fvwVKBe8JAOl",
        "outputId": "dfb9c56d-3864-4e24-a1a7-637535ce7378"
      },
      "outputs": [],
      "source": [
        "df.isnull().sum()\n"
      ]
    },
    {
      "cell_type": "markdown",
      "metadata": {
        "id": "2nKVkEVrXnN-"
      },
      "source": [
        "# Tratamento de nulos\n",
        "\n",
        "Contratado Freemiun -> Segundo o Sponser, os nulos significam não contratados : Portanto é possível tranformar os nulos em zero \n",
        "\n",
        "Total_utilizado -> Verificar com sponser (ao meu entender valores nulos significam que nenhum anuncio foi utilizado, portanto faz sentido substituir por zero)\n",
        "\n",
        "obs. primeiro verificarei se a coluna regiao é relevante, se for por ser uma pequena porcentagem de nulos pode-se dropar somente as linhas"
      ]
    },
    {
      "cell_type": "code",
      "execution_count": null,
      "metadata": {
        "id": "ArkYmz_PXj-f"
      },
      "outputs": [],
      "source": [
        "df['contratado_freemium'] = df['contratado_freemium'].fillna(0)\n",
        "df['utilizado_super_destaques'] = df['utilizado_super_destaques'].fillna(0)\n",
        "df['utilizado_freemium'] = df['utilizado_freemium'].fillna(0)\n",
        "df['total_utilizado'] = df['total_utilizado'].fillna(0)\n"
      ]
    },
    {
      "cell_type": "code",
      "execution_count": null,
      "metadata": {
        "colab": {
          "base_uri": "https://localhost:8080/"
        },
        "id": "LRSjEn1HJL1u",
        "outputId": "a9cbe829-0010-4f50-a416-7eb68522d7cd"
      },
      "outputs": [],
      "source": [
        "df.isnull().sum()"
      ]
    },
    {
      "cell_type": "markdown",
      "metadata": {
        "id": "9LTWmlszCxDx"
      },
      "source": [
        "# Verificando relevância de features categoricas\n",
        "\n",
        "obs. deveriamos fazer por mês, por falta de tempo farei apenas do total"
      ]
    },
    {
      "cell_type": "code",
      "execution_count": null,
      "metadata": {
        "id": "oBHMV0moOwul"
      },
      "outputs": [],
      "source": [
        "df['churn'].replace({'0': 0, '1': 1}, inplace=True)"
      ]
    },
    {
      "cell_type": "code",
      "execution_count": null,
      "metadata": {
        "colab": {
          "base_uri": "https://localhost:8080/"
        },
        "id": "QI8VD9lUEGkc",
        "outputId": "39fd9ca5-a639-41e9-9821-49509be36230"
      },
      "outputs": [],
      "source": [
        "df.dtypes"
      ]
    },
    {
      "cell_type": "code",
      "execution_count": null,
      "metadata": {
        "colab": {
          "base_uri": "https://localhost:8080/"
        },
        "id": "_trrjjFSZUWi",
        "outputId": "6224b5e8-9a5f-4a34-ee4b-5afd094d1900"
      },
      "outputs": [],
      "source": [
        "df['regiao'].unique()\n"
      ]
    },
    {
      "cell_type": "markdown",
      "metadata": {
        "id": "VE5uAtgzZHc-"
      },
      "source": [
        "Como não há constancia nos de região é melhor desconsiderar"
      ]
    },
    {
      "cell_type": "code",
      "execution_count": null,
      "metadata": {
        "id": "ml1a4fI0Y7xE"
      },
      "outputs": [],
      "source": [
        "df = df.drop(columns=['regiao','cidade','bairro'])"
      ]
    },
    {
      "cell_type": "code",
      "execution_count": null,
      "metadata": {
        "colab": {
          "base_uri": "https://localhost:8080/"
        },
        "id": "jA4-0rUVZWyR",
        "outputId": "4f28ee21-e17e-4497-b88c-2ecb44398558"
      },
      "outputs": [],
      "source": [
        "df.columns"
      ]
    },
    {
      "cell_type": "markdown",
      "metadata": {
        "id": "F4T09LkUa-0A"
      },
      "source": [
        "#Oficina"
      ]
    },
    {
      "cell_type": "code",
      "execution_count": null,
      "metadata": {
        "colab": {
          "base_uri": "https://localhost:8080/"
        },
        "id": "_k75Gz9MZg5l",
        "outputId": "5b4cd1e0-36ad-4893-ac4d-b012ed07e98c"
      },
      "outputs": [],
      "source": [
        "df['oficina'].unique()"
      ]
    },
    {
      "cell_type": "code",
      "execution_count": null,
      "metadata": {
        "colab": {
          "base_uri": "https://localhost:8080/"
        },
        "id": "pm2jHljCbDgD",
        "outputId": "ccf99195-c29a-4c93-bc3c-7027021765b7"
      },
      "outputs": [],
      "source": [
        "df['oficina'].replace({'wi': 'WI'}, inplace=True) # Alterando o valor wi para igualar a WI\n",
        "df['oficina'].unique()"
      ]
    },
    {
      "cell_type": "markdown",
      "metadata": {
        "id": "5Lfq0GbpjUgh"
      },
      "source": [
        "Faturamento"
      ]
    },
    {
      "cell_type": "code",
      "execution_count": null,
      "metadata": {
        "colab": {
          "base_uri": "https://localhost:8080/"
        },
        "id": "MNxsE8JlZo1y",
        "outputId": "6723dc0d-f2f3-414c-a9c5-8d94ae4661dd"
      },
      "outputs": [],
      "source": [
        "df['frequencia_de_faturamento'].unique()"
      ]
    },
    {
      "cell_type": "code",
      "execution_count": null,
      "metadata": {
        "colab": {
          "base_uri": "https://localhost:8080/"
        },
        "id": "oUuYpKhwhVNM",
        "outputId": "c8d28ac8-724e-42cf-8c12-8e349468f36c"
      },
      "outputs": [],
      "source": [
        "#corrigir diferenças de nomes\n",
        "df['frequencia_de_faturamento'] = df['frequencia_de_faturamento'].str.lower()\n",
        "df['frequencia_de_faturamento'].unique()"
      ]
    },
    {
      "cell_type": "code",
      "execution_count": null,
      "metadata": {
        "colab": {
          "base_uri": "https://localhost:8080/"
        },
        "id": "NJ27W9E9SKax",
        "outputId": "8ba6b932-03b0-45e0-9ace-1a9286c871f0"
      },
      "outputs": [],
      "source": [
        "#remover espaços\n",
        "\n",
        "df['frequencia_de_faturamento'] = df['frequencia_de_faturamento'].str.strip()\n",
        "df['frequencia_de_faturamento'].unique()"
      ]
    },
    {
      "cell_type": "code",
      "execution_count": null,
      "metadata": {
        "colab": {
          "base_uri": "https://localhost:8080/"
        },
        "id": "2RFJlKxtTTsJ",
        "outputId": "cadf125b-112c-4a9c-ae18-4f453e7e7414"
      },
      "outputs": [],
      "source": [
        "#renomeando unica vez\n",
        "\n",
        "df['frequencia_de_faturamento'].replace({'única vez': 'unica_vez'}, inplace=True)\n",
        "df['frequencia_de_faturamento'].unique()"
      ]
    },
    {
      "cell_type": "markdown",
      "metadata": {
        "id": "Io9i6U52jX9P"
      },
      "source": [
        "Tipo de Plano"
      ]
    },
    {
      "cell_type": "code",
      "execution_count": null,
      "metadata": {
        "colab": {
          "base_uri": "https://localhost:8080/"
        },
        "id": "91KB6fQ2Zovj",
        "outputId": "63262387-f05a-49af-defd-a100147c3eba"
      },
      "outputs": [],
      "source": [
        "df['tipo_de_plano'].unique()"
      ]
    },
    {
      "cell_type": "markdown",
      "metadata": {
        "id": "4FIQfR1xjaov"
      },
      "source": [
        "Midia Ativa"
      ]
    },
    {
      "cell_type": "code",
      "execution_count": null,
      "metadata": {
        "colab": {
          "base_uri": "https://localhost:8080/"
        },
        "id": "rVi69-s5Zop6",
        "outputId": "c4c1f1d4-8abf-4659-ffc9-7dae5340f0a5"
      },
      "outputs": [],
      "source": [
        "df['possui_midia_ativa_'].unique()"
      ]
    },
    {
      "cell_type": "markdown",
      "metadata": {
        "id": "14jzU-D-jdx1"
      },
      "source": [
        "PF_PJ"
      ]
    },
    {
      "cell_type": "code",
      "execution_count": null,
      "metadata": {
        "colab": {
          "base_uri": "https://localhost:8080/"
        },
        "id": "sbPfxTFdZoi3",
        "outputId": "f4359fc4-abfd-4219-d19d-0e79632faa62"
      },
      "outputs": [],
      "source": [
        "df['pf_pj'].unique()"
      ]
    },
    {
      "cell_type": "markdown",
      "metadata": {
        "id": "pumxNXxhjlCt"
      },
      "source": [
        "Equipe"
      ]
    },
    {
      "cell_type": "code",
      "execution_count": null,
      "metadata": {
        "colab": {
          "base_uri": "https://localhost:8080/"
        },
        "id": "9WYVIRswkJsr",
        "outputId": "4b9d6121-b0c2-4ef0-f44d-ed9f9367e1a0"
      },
      "outputs": [],
      "source": [
        "df['equipe'].unique()"
      ]
    },
    {
      "cell_type": "code",
      "execution_count": null,
      "metadata": {
        "colab": {
          "base_uri": "https://localhost:8080/"
        },
        "id": "vD8jPicDjjB1",
        "outputId": "092f738b-2af4-4664-dd39-196fd887ccdc"
      },
      "outputs": [],
      "source": [
        "df['equipe'].replace({'Relacionamento': 'RELACIONAMENTO','Jumbo':'JUMBO','Resellers':'RESELLERS'}, inplace=True) # Alterando para valores ficarem iguais\n",
        "df['equipe'].unique()"
      ]
    },
    {
      "cell_type": "markdown",
      "metadata": {
        "id": "uQI00cm5h5PJ"
      },
      "source": [
        "One-hot-enconding"
      ]
    },
    {
      "cell_type": "code",
      "execution_count": null,
      "metadata": {
        "colab": {
          "base_uri": "https://localhost:8080/",
          "height": 357
        },
        "id": "cqvW1wVZZoME",
        "outputId": "d5a06d62-3392-4bf8-9e6f-544845229dc6"
      },
      "outputs": [],
      "source": [
        "#Variáveis Binárias para passar por one-hot-enconding\n",
        "\n",
        "ohe_1 = ['oficina','tipo_de_plano','possui_midia_ativa_','pf_pj']\n",
        "\n",
        "from sklearn.preprocessing import LabelEncoder\n",
        "label_encoder = LabelEncoder()\n",
        "\n",
        "for col in ohe_1:\n",
        "  df[col] = label_encoder.fit_transform(df[col])\n",
        "\n",
        "df.head()\n"
      ]
    },
    {
      "cell_type": "code",
      "execution_count": null,
      "metadata": {
        "colab": {
          "base_uri": "https://localhost:8080/",
          "height": 374
        },
        "id": "UNxd-EDHlKcf",
        "outputId": "b3f26c9d-9d0f-4db0-b372-19c970f122c6"
      },
      "outputs": [],
      "source": [
        "#2. Transformar as variáveis não binárias\n",
        "\n",
        "df =  pd.get_dummies(df, columns= ['equipe'])\n",
        "df.head()"
      ]
    },
    {
      "cell_type": "code",
      "execution_count": null,
      "metadata": {
        "colab": {
          "base_uri": "https://localhost:8080/",
          "height": 374
        },
        "id": "L7t4oYYdToaV",
        "outputId": "e6a0ee26-2c1e-45fa-f694-767308e4cf6b"
      },
      "outputs": [],
      "source": [
        "df =  pd.get_dummies(df, columns= ['frequencia_de_faturamento'])\n",
        "df.head()"
      ]
    },
    {
      "cell_type": "code",
      "execution_count": null,
      "metadata": {
        "colab": {
          "base_uri": "https://localhost:8080/"
        },
        "id": "DrxadJGhHTnI",
        "outputId": "c0eb2370-5177-4784-deae-557bd3f7bb93"
      },
      "outputs": [],
      "source": [
        "df['churn'].value_counts(normalize=True)"
      ]
    },
    {
      "cell_type": "code",
      "execution_count": null,
      "metadata": {
        "colab": {
          "base_uri": "https://localhost:8080/"
        },
        "id": "yB5js-1sXbN4",
        "outputId": "39b5a6ee-6b81-4638-c635-3f2ad9ae6753"
      },
      "outputs": [],
      "source": [
        "df.shape[1]"
      ]
    }
  ],
  "metadata": {
    "colab": {
      "collapsed_sections": [],
      "name": "Deliverable3.ipynb",
      "provenance": []
    },
    "kernelspec": {
      "display_name": "Python 3",
      "name": "python3"
    },
    "language_info": {
      "name": "python"
    }
  },
  "nbformat": 4,
  "nbformat_minor": 0
}
