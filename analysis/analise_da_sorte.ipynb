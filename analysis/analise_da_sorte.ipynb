{
 "cells": [
  {
   "cell_type": "code",
   "execution_count": 10,
   "metadata": {},
   "outputs": [],
   "source": [
    "from sklearn.utils import all_estimators\n",
    "from sklearn.metrics import plot_confusion_matrix\n",
    "import matplotlib.pyplot as plt\n",
    "from imblearn.under_sampling import RandomUnderSampler\n",
    "\n",
    "from sklearn.metrics import classification_report\n",
    "from sklearn.model_selection import train_test_split\n",
    "from sklearn.preprocessing import RobustScaler\n",
    "import pandas as pd\n",
    "from mlflow.models.signature import infer_signature\n",
    "import mlflow\n",
    "from sklearn.preprocessing import OneHotEncoder\n",
    "from sklearn.impute import SimpleImputer\n",
    "from sklearn.compose import ColumnTransformer\n",
    "from imblearn.pipeline import Pipeline\n",
    "import warnings\n",
    "warnings.filterwarnings('ignore')\n"
   ]
  },
  {
   "cell_type": "code",
   "execution_count": 11,
   "metadata": {},
   "outputs": [],
   "source": [
    "df = pd.read_feather('../data/carteira_total_with_quality_score.feather')\n"
   ]
  },
  {
   "cell_type": "code",
   "execution_count": 12,
   "metadata": {},
   "outputs": [],
   "source": [
    "df = df[['pf_pj', 'contratado_ofertas_simples', 'utilizado_ofertas_simples',\n",
    "         'leads_form', 'equipe', 'utilizado_destaque', 'valor_mensal',\n",
    "         'quantidade_mes', 'status_pagamento', 'churn', 'regiao', 'oficina', 'tipo_de_plano', 'frequencia_de_faturamento']]"
   ]
  },
  {
   "cell_type": "code",
   "execution_count": 13,
   "metadata": {},
   "outputs": [],
   "source": [
    "df = df[df['status_pagamento'].notna()]"
   ]
  },
  {
   "cell_type": "code",
   "execution_count": 14,
   "metadata": {},
   "outputs": [],
   "source": [
    "numeric_features = ['contratado_ofertas_simples', 'utilizado_ofertas_simples',\n",
    "                    'leads_form', 'utilizado_destaque', 'valor_mensal', 'quantidade_mes']\n",
    "numeric_transformer = Pipeline(\n",
    "    steps=[(\"imputer\", SimpleImputer(strategy=\"median\"))]\n",
    ")\n",
    "\n",
    "categorical_features = ['pf_pj', 'equipe',\n",
    "                        'regiao', 'oficina', 'tipo_de_plano', 'frequencia_de_faturamento']\n",
    "categorical_transformer = Pipeline(\n",
    "    steps=[(\"onehot\", OneHotEncoder(handle_unknown='ignore')),\n",
    "           (\"imputer\", SimpleImputer(strategy=\"constant\"))]\n",
    ")\n",
    "\n",
    "preprocessor = ColumnTransformer(\n",
    "    transformers=[\n",
    "        (\"num\", numeric_transformer, numeric_features),\n",
    "        (\"cat\", categorical_transformer, categorical_features),\n",
    "    ]\n",
    ")\n",
    "\n",
    "pipeline = Pipeline(\n",
    "    steps=[\n",
    "        (\"preprocessor\", preprocessor),\n",
    "        (\"scaler2\", RobustScaler(with_centering=False)),\n",
    "        ('smote', RandomUnderSampler(sampling_strategy='majority', random_state=42))\n",
    "    ]\n",
    ")\n"
   ]
  },
  {
   "cell_type": "code",
   "execution_count": 15,
   "metadata": {},
   "outputs": [],
   "source": [
    "X = df.drop(['churn'], axis=1).copy()\n",
    "y = df['churn'].astype(int).copy()\n",
    "\n",
    "X_train, X_test, y_train, y_test = train_test_split(\n",
    "    X, y, test_size=0.33, random_state=1, stratify=y)"
   ]
  },
  {
   "cell_type": "code",
   "execution_count": 16,
   "metadata": {},
   "outputs": [],
   "source": [
    "def printAndSave(pipeline, X_test, y_test, y_pred):\n",
    "    mlflow.set_experiment('Churn Prediction')\n",
    "    signature = infer_signature(X_test, y_pred)\n",
    "    mlflow.sklearn.log_model(pipeline, 'model_pipeline', signature=signature)\n",
    "    params = pipeline.named_steps[\"classifier\"].get_params()\n",
    "    mlflow.log_params(params)\n",
    "\n",
    "    plot_confusion_matrix(pipeline, X_test, y_test, display_labels=[\n",
    "        \"positivo\", \"negativo\"], values_format=\"d\")\n",
    "\n",
    "    plt.savefig(\"mlruns/confusion_matrix_.png\")\n",
    "    mlflow.log_artifact(\"mlruns/confusion_matrix_.png\")\n",
    "\n",
    "    plt.close()\n",
    "\n",
    "    mlflow.log_metric(\"metrics\", classification_report(y_test, y_pred))\n",
    "    print(classification_report(y_test, y_pred))\n",
    "\n",
    "    mlflow.end_run()"
   ]
  },
  {
   "cell_type": "code",
   "execution_count": 17,
   "metadata": {},
   "outputs": [],
   "source": [
    "estimators = all_estimators(type_filter='classifier')\n",
    "\n",
    "all_class = []\n",
    "for name, ClassificationClass in estimators:\n",
    "    try:\n",
    "        clas = ClassificationClass()\n",
    "        all_class.append(clas)\n",
    "    except Exception as e:\n",
    "        continue"
   ]
  },
  {
   "cell_type": "code",
   "execution_count": 18,
   "metadata": {},
   "outputs": [
    {
     "name": "stderr",
     "output_type": "stream",
     "text": [
      "2022/06/02 00:09:27 INFO mlflow.tracking.fluent: Experiment with name 'Churn Prediction' does not exist. Creating a new experiment.\n"
     ]
    },
    {
     "name": "stdout",
     "output_type": "stream",
     "text": [
      "AdaBoostClassifier()\n",
      "              precision    recall  f1-score   support\n",
      "\n",
      "           0       0.98      0.79      0.87     10654\n",
      "           1       0.27      0.82      0.41      1008\n",
      "\n",
      "    accuracy                           0.79     11662\n",
      "   macro avg       0.62      0.81      0.64     11662\n",
      "weighted avg       0.92      0.79      0.83     11662\n",
      "\n",
      "BaggingClassifier()\n"
     ]
    },
    {
     "ename": "KeyboardInterrupt",
     "evalue": "",
     "output_type": "error",
     "traceback": [
      "\u001b[0;31m---------------------------------------------------------------------------\u001b[0m",
      "\u001b[0;31mKeyboardInterrupt\u001b[0m                         Traceback (most recent call last)",
      "\u001b[1;32m/home/felipe/dev/predicao_churn/analysis/analise_da_sorte.ipynb Cell 9'\u001b[0m in \u001b[0;36m<cell line: 1>\u001b[0;34m()\u001b[0m\n\u001b[1;32m      <a href='vscode-notebook-cell://wsl%2Bubuntu/home/felipe/dev/predicao_churn/analysis/analise_da_sorte.ipynb#ch0000010vscode-remote?line=5'>6</a>\u001b[0m     y_pred \u001b[39m=\u001b[39m pipeline\u001b[39m.\u001b[39mpredict(X_test)\n\u001b[1;32m      <a href='vscode-notebook-cell://wsl%2Bubuntu/home/felipe/dev/predicao_churn/analysis/analise_da_sorte.ipynb#ch0000010vscode-remote?line=7'>8</a>\u001b[0m     \u001b[39mprint\u001b[39m(i)\n\u001b[0;32m----> <a href='vscode-notebook-cell://wsl%2Bubuntu/home/felipe/dev/predicao_churn/analysis/analise_da_sorte.ipynb#ch0000010vscode-remote?line=8'>9</a>\u001b[0m     printAndSave(pipeline, X_test, y_test, y_pred)\n\u001b[1;32m     <a href='vscode-notebook-cell://wsl%2Bubuntu/home/felipe/dev/predicao_churn/analysis/analise_da_sorte.ipynb#ch0000010vscode-remote?line=9'>10</a>\u001b[0m \u001b[39mexcept\u001b[39;00m \u001b[39mException\u001b[39;00m \u001b[39mas\u001b[39;00m e:\n\u001b[1;32m     <a href='vscode-notebook-cell://wsl%2Bubuntu/home/felipe/dev/predicao_churn/analysis/analise_da_sorte.ipynb#ch0000010vscode-remote?line=10'>11</a>\u001b[0m     \u001b[39mprint\u001b[39m(e)\n",
      "\u001b[1;32m/home/felipe/dev/predicao_churn/analysis/analise_da_sorte.ipynb Cell 7'\u001b[0m in \u001b[0;36mprintAndSave\u001b[0;34m(pipeline, X_test, y_test, y_pred)\u001b[0m\n\u001b[1;32m      <a href='vscode-notebook-cell://wsl%2Bubuntu/home/felipe/dev/predicao_churn/analysis/analise_da_sorte.ipynb#ch0000019vscode-remote?line=1'>2</a>\u001b[0m mlflow\u001b[39m.\u001b[39mset_experiment(\u001b[39m'\u001b[39m\u001b[39mChurn Prediction\u001b[39m\u001b[39m'\u001b[39m)\n\u001b[1;32m      <a href='vscode-notebook-cell://wsl%2Bubuntu/home/felipe/dev/predicao_churn/analysis/analise_da_sorte.ipynb#ch0000019vscode-remote?line=2'>3</a>\u001b[0m signature \u001b[39m=\u001b[39m infer_signature(X_test, y_pred)\n\u001b[0;32m----> <a href='vscode-notebook-cell://wsl%2Bubuntu/home/felipe/dev/predicao_churn/analysis/analise_da_sorte.ipynb#ch0000019vscode-remote?line=3'>4</a>\u001b[0m mlflow\u001b[39m.\u001b[39;49msklearn\u001b[39m.\u001b[39;49mlog_model(pipeline, \u001b[39m'\u001b[39;49m\u001b[39mmodel_pipeline\u001b[39;49m\u001b[39m'\u001b[39;49m, signature\u001b[39m=\u001b[39;49msignature)\n\u001b[1;32m      <a href='vscode-notebook-cell://wsl%2Bubuntu/home/felipe/dev/predicao_churn/analysis/analise_da_sorte.ipynb#ch0000019vscode-remote?line=4'>5</a>\u001b[0m params \u001b[39m=\u001b[39m pipeline\u001b[39m.\u001b[39mnamed_steps[\u001b[39m\"\u001b[39m\u001b[39mclassifier\u001b[39m\u001b[39m\"\u001b[39m]\u001b[39m.\u001b[39mget_params()\n\u001b[1;32m      <a href='vscode-notebook-cell://wsl%2Bubuntu/home/felipe/dev/predicao_churn/analysis/analise_da_sorte.ipynb#ch0000019vscode-remote?line=5'>6</a>\u001b[0m mlflow\u001b[39m.\u001b[39mlog_params(params)\n",
      "File \u001b[0;32m~/dev/predicao_churn/venv/lib/python3.8/site-packages/mlflow/sklearn/__init__.py:393\u001b[0m, in \u001b[0;36mlog_model\u001b[0;34m(sk_model, artifact_path, conda_env, code_paths, serialization_format, registered_model_name, signature, input_example, await_registration_for, pip_requirements, extra_pip_requirements)\u001b[0m\n\u001b[1;32m    <a href='file:///home/felipe/dev/predicao_churn/venv/lib/python3.8/site-packages/mlflow/sklearn/__init__.py?line=308'>309</a>\u001b[0m \u001b[39m@format_docstring\u001b[39m(LOG_MODEL_PARAM_DOCS\u001b[39m.\u001b[39mformat(package_name\u001b[39m=\u001b[39m\u001b[39m\"\u001b[39m\u001b[39mscikit-learn\u001b[39m\u001b[39m\"\u001b[39m))\n\u001b[1;32m    <a href='file:///home/felipe/dev/predicao_churn/venv/lib/python3.8/site-packages/mlflow/sklearn/__init__.py?line=309'>310</a>\u001b[0m \u001b[39mdef\u001b[39;00m \u001b[39mlog_model\u001b[39m(\n\u001b[1;32m    <a href='file:///home/felipe/dev/predicao_churn/venv/lib/python3.8/site-packages/mlflow/sklearn/__init__.py?line=310'>311</a>\u001b[0m     sk_model,\n\u001b[0;32m   (...)\u001b[0m\n\u001b[1;32m    <a href='file:///home/felipe/dev/predicao_churn/venv/lib/python3.8/site-packages/mlflow/sklearn/__init__.py?line=320'>321</a>\u001b[0m     extra_pip_requirements\u001b[39m=\u001b[39m\u001b[39mNone\u001b[39;00m,\n\u001b[1;32m    <a href='file:///home/felipe/dev/predicao_churn/venv/lib/python3.8/site-packages/mlflow/sklearn/__init__.py?line=321'>322</a>\u001b[0m ):\n\u001b[1;32m    <a href='file:///home/felipe/dev/predicao_churn/venv/lib/python3.8/site-packages/mlflow/sklearn/__init__.py?line=322'>323</a>\u001b[0m     \u001b[39m\"\"\"\u001b[39;00m\n\u001b[1;32m    <a href='file:///home/felipe/dev/predicao_churn/venv/lib/python3.8/site-packages/mlflow/sklearn/__init__.py?line=323'>324</a>\u001b[0m \u001b[39m    Log a scikit-learn model as an MLflow artifact for the current run. Produces an MLflow Model\u001b[39;00m\n\u001b[1;32m    <a href='file:///home/felipe/dev/predicao_churn/venv/lib/python3.8/site-packages/mlflow/sklearn/__init__.py?line=324'>325</a>\u001b[0m \u001b[39m    containing the following flavors:\u001b[39;00m\n\u001b[0;32m   (...)\u001b[0m\n\u001b[1;32m    <a href='file:///home/felipe/dev/predicao_churn/venv/lib/python3.8/site-packages/mlflow/sklearn/__init__.py?line=390'>391</a>\u001b[0m \u001b[39m        mlflow.sklearn.log_model(sk_model, \"sk_models\")\u001b[39;00m\n\u001b[1;32m    <a href='file:///home/felipe/dev/predicao_churn/venv/lib/python3.8/site-packages/mlflow/sklearn/__init__.py?line=391'>392</a>\u001b[0m \u001b[39m    \"\"\"\u001b[39;00m\n\u001b[0;32m--> <a href='file:///home/felipe/dev/predicao_churn/venv/lib/python3.8/site-packages/mlflow/sklearn/__init__.py?line=392'>393</a>\u001b[0m     \u001b[39mreturn\u001b[39;00m Model\u001b[39m.\u001b[39;49mlog(\n\u001b[1;32m    <a href='file:///home/felipe/dev/predicao_churn/venv/lib/python3.8/site-packages/mlflow/sklearn/__init__.py?line=393'>394</a>\u001b[0m         artifact_path\u001b[39m=\u001b[39;49martifact_path,\n\u001b[1;32m    <a href='file:///home/felipe/dev/predicao_churn/venv/lib/python3.8/site-packages/mlflow/sklearn/__init__.py?line=394'>395</a>\u001b[0m         flavor\u001b[39m=\u001b[39;49mmlflow\u001b[39m.\u001b[39;49msklearn,\n\u001b[1;32m    <a href='file:///home/felipe/dev/predicao_churn/venv/lib/python3.8/site-packages/mlflow/sklearn/__init__.py?line=395'>396</a>\u001b[0m         sk_model\u001b[39m=\u001b[39;49msk_model,\n\u001b[1;32m    <a href='file:///home/felipe/dev/predicao_churn/venv/lib/python3.8/site-packages/mlflow/sklearn/__init__.py?line=396'>397</a>\u001b[0m         conda_env\u001b[39m=\u001b[39;49mconda_env,\n\u001b[1;32m    <a href='file:///home/felipe/dev/predicao_churn/venv/lib/python3.8/site-packages/mlflow/sklearn/__init__.py?line=397'>398</a>\u001b[0m         code_paths\u001b[39m=\u001b[39;49mcode_paths,\n\u001b[1;32m    <a href='file:///home/felipe/dev/predicao_churn/venv/lib/python3.8/site-packages/mlflow/sklearn/__init__.py?line=398'>399</a>\u001b[0m         serialization_format\u001b[39m=\u001b[39;49mserialization_format,\n\u001b[1;32m    <a href='file:///home/felipe/dev/predicao_churn/venv/lib/python3.8/site-packages/mlflow/sklearn/__init__.py?line=399'>400</a>\u001b[0m         registered_model_name\u001b[39m=\u001b[39;49mregistered_model_name,\n\u001b[1;32m    <a href='file:///home/felipe/dev/predicao_churn/venv/lib/python3.8/site-packages/mlflow/sklearn/__init__.py?line=400'>401</a>\u001b[0m         signature\u001b[39m=\u001b[39;49msignature,\n\u001b[1;32m    <a href='file:///home/felipe/dev/predicao_churn/venv/lib/python3.8/site-packages/mlflow/sklearn/__init__.py?line=401'>402</a>\u001b[0m         input_example\u001b[39m=\u001b[39;49minput_example,\n\u001b[1;32m    <a href='file:///home/felipe/dev/predicao_churn/venv/lib/python3.8/site-packages/mlflow/sklearn/__init__.py?line=402'>403</a>\u001b[0m         await_registration_for\u001b[39m=\u001b[39;49mawait_registration_for,\n\u001b[1;32m    <a href='file:///home/felipe/dev/predicao_churn/venv/lib/python3.8/site-packages/mlflow/sklearn/__init__.py?line=403'>404</a>\u001b[0m         pip_requirements\u001b[39m=\u001b[39;49mpip_requirements,\n\u001b[1;32m    <a href='file:///home/felipe/dev/predicao_churn/venv/lib/python3.8/site-packages/mlflow/sklearn/__init__.py?line=404'>405</a>\u001b[0m         extra_pip_requirements\u001b[39m=\u001b[39;49mextra_pip_requirements,\n\u001b[1;32m    <a href='file:///home/felipe/dev/predicao_churn/venv/lib/python3.8/site-packages/mlflow/sklearn/__init__.py?line=405'>406</a>\u001b[0m     )\n",
      "File \u001b[0;32m~/dev/predicao_churn/venv/lib/python3.8/site-packages/mlflow/models/model.py:294\u001b[0m, in \u001b[0;36mModel.log\u001b[0;34m(cls, artifact_path, flavor, registered_model_name, await_registration_for, **kwargs)\u001b[0m\n\u001b[1;32m    <a href='file:///home/felipe/dev/predicao_churn/venv/lib/python3.8/site-packages/mlflow/models/model.py?line=291'>292</a>\u001b[0m run_id \u001b[39m=\u001b[39m mlflow\u001b[39m.\u001b[39mtracking\u001b[39m.\u001b[39mfluent\u001b[39m.\u001b[39m_get_or_start_run()\u001b[39m.\u001b[39minfo\u001b[39m.\u001b[39mrun_id\n\u001b[1;32m    <a href='file:///home/felipe/dev/predicao_churn/venv/lib/python3.8/site-packages/mlflow/models/model.py?line=292'>293</a>\u001b[0m mlflow_model \u001b[39m=\u001b[39m \u001b[39mcls\u001b[39m(artifact_path\u001b[39m=\u001b[39martifact_path, run_id\u001b[39m=\u001b[39mrun_id)\n\u001b[0;32m--> <a href='file:///home/felipe/dev/predicao_churn/venv/lib/python3.8/site-packages/mlflow/models/model.py?line=293'>294</a>\u001b[0m flavor\u001b[39m.\u001b[39;49msave_model(path\u001b[39m=\u001b[39;49mlocal_path, mlflow_model\u001b[39m=\u001b[39;49mmlflow_model, \u001b[39m*\u001b[39;49m\u001b[39m*\u001b[39;49mkwargs)\n\u001b[1;32m    <a href='file:///home/felipe/dev/predicao_churn/venv/lib/python3.8/site-packages/mlflow/models/model.py?line=294'>295</a>\u001b[0m mlflow\u001b[39m.\u001b[39mtracking\u001b[39m.\u001b[39mfluent\u001b[39m.\u001b[39mlog_artifacts(local_path, artifact_path)\n\u001b[1;32m    <a href='file:///home/felipe/dev/predicao_churn/venv/lib/python3.8/site-packages/mlflow/models/model.py?line=295'>296</a>\u001b[0m \u001b[39mtry\u001b[39;00m:\n",
      "File \u001b[0;32m~/dev/predicao_churn/venv/lib/python3.8/site-packages/mlflow/sklearn/__init__.py:280\u001b[0m, in \u001b[0;36msave_model\u001b[0;34m(sk_model, path, conda_env, code_paths, mlflow_model, serialization_format, signature, input_example, pip_requirements, extra_pip_requirements)\u001b[0m\n\u001b[1;32m    <a href='file:///home/felipe/dev/predicao_churn/venv/lib/python3.8/site-packages/mlflow/sklearn/__init__.py?line=276'>277</a>\u001b[0m     default_reqs \u001b[39m=\u001b[39m get_default_pip_requirements(include_cloudpickle)\n\u001b[1;32m    <a href='file:///home/felipe/dev/predicao_churn/venv/lib/python3.8/site-packages/mlflow/sklearn/__init__.py?line=277'>278</a>\u001b[0m     \u001b[39m# To ensure `_load_pyfunc` can successfully load the model during the dependency\u001b[39;00m\n\u001b[1;32m    <a href='file:///home/felipe/dev/predicao_churn/venv/lib/python3.8/site-packages/mlflow/sklearn/__init__.py?line=278'>279</a>\u001b[0m     \u001b[39m# inference, `mlflow_model.save` must be called beforehand to save an MLmodel file.\u001b[39;00m\n\u001b[0;32m--> <a href='file:///home/felipe/dev/predicao_churn/venv/lib/python3.8/site-packages/mlflow/sklearn/__init__.py?line=279'>280</a>\u001b[0m     inferred_reqs \u001b[39m=\u001b[39m mlflow\u001b[39m.\u001b[39;49mmodels\u001b[39m.\u001b[39;49minfer_pip_requirements(\n\u001b[1;32m    <a href='file:///home/felipe/dev/predicao_churn/venv/lib/python3.8/site-packages/mlflow/sklearn/__init__.py?line=280'>281</a>\u001b[0m         model_data_path,\n\u001b[1;32m    <a href='file:///home/felipe/dev/predicao_churn/venv/lib/python3.8/site-packages/mlflow/sklearn/__init__.py?line=281'>282</a>\u001b[0m         FLAVOR_NAME,\n\u001b[1;32m    <a href='file:///home/felipe/dev/predicao_churn/venv/lib/python3.8/site-packages/mlflow/sklearn/__init__.py?line=282'>283</a>\u001b[0m         fallback\u001b[39m=\u001b[39;49mdefault_reqs,\n\u001b[1;32m    <a href='file:///home/felipe/dev/predicao_churn/venv/lib/python3.8/site-packages/mlflow/sklearn/__init__.py?line=283'>284</a>\u001b[0m     )\n\u001b[1;32m    <a href='file:///home/felipe/dev/predicao_churn/venv/lib/python3.8/site-packages/mlflow/sklearn/__init__.py?line=284'>285</a>\u001b[0m     default_reqs \u001b[39m=\u001b[39m \u001b[39msorted\u001b[39m(\u001b[39mset\u001b[39m(inferred_reqs)\u001b[39m.\u001b[39munion(default_reqs))\n\u001b[1;32m    <a href='file:///home/felipe/dev/predicao_churn/venv/lib/python3.8/site-packages/mlflow/sklearn/__init__.py?line=285'>286</a>\u001b[0m \u001b[39melse\u001b[39;00m:\n",
      "File \u001b[0;32m~/dev/predicao_churn/venv/lib/python3.8/site-packages/mlflow/utils/environment.py:378\u001b[0m, in \u001b[0;36minfer_pip_requirements\u001b[0;34m(model_uri, flavor, fallback)\u001b[0m\n\u001b[1;32m    <a href='file:///home/felipe/dev/predicao_churn/venv/lib/python3.8/site-packages/mlflow/utils/environment.py?line=366'>367</a>\u001b[0m \u001b[39m\"\"\"\u001b[39;00m\n\u001b[1;32m    <a href='file:///home/felipe/dev/predicao_churn/venv/lib/python3.8/site-packages/mlflow/utils/environment.py?line=367'>368</a>\u001b[0m \u001b[39mInfers the pip requirements of the specified model by creating a subprocess and loading\u001b[39;00m\n\u001b[1;32m    <a href='file:///home/felipe/dev/predicao_churn/venv/lib/python3.8/site-packages/mlflow/utils/environment.py?line=368'>369</a>\u001b[0m \u001b[39mthe model in it to determine which packages are imported.\u001b[39;00m\n\u001b[0;32m   (...)\u001b[0m\n\u001b[1;32m    <a href='file:///home/felipe/dev/predicao_churn/venv/lib/python3.8/site-packages/mlflow/utils/environment.py?line=374'>375</a>\u001b[0m \u001b[39m:return: A list of inferred pip requirements (e.g. ``[\"scikit-learn==0.24.2\", ...]``).\u001b[39;00m\n\u001b[1;32m    <a href='file:///home/felipe/dev/predicao_churn/venv/lib/python3.8/site-packages/mlflow/utils/environment.py?line=375'>376</a>\u001b[0m \u001b[39m\"\"\"\u001b[39;00m\n\u001b[1;32m    <a href='file:///home/felipe/dev/predicao_churn/venv/lib/python3.8/site-packages/mlflow/utils/environment.py?line=376'>377</a>\u001b[0m \u001b[39mtry\u001b[39;00m:\n\u001b[0;32m--> <a href='file:///home/felipe/dev/predicao_churn/venv/lib/python3.8/site-packages/mlflow/utils/environment.py?line=377'>378</a>\u001b[0m     \u001b[39mreturn\u001b[39;00m _infer_requirements(model_uri, flavor)\n\u001b[1;32m    <a href='file:///home/felipe/dev/predicao_churn/venv/lib/python3.8/site-packages/mlflow/utils/environment.py?line=378'>379</a>\u001b[0m \u001b[39mexcept\u001b[39;00m \u001b[39mException\u001b[39;00m:\n\u001b[1;32m    <a href='file:///home/felipe/dev/predicao_churn/venv/lib/python3.8/site-packages/mlflow/utils/environment.py?line=379'>380</a>\u001b[0m     \u001b[39mif\u001b[39;00m fallback \u001b[39mis\u001b[39;00m \u001b[39mnot\u001b[39;00m \u001b[39mNone\u001b[39;00m:\n",
      "File \u001b[0;32m~/dev/predicao_churn/venv/lib/python3.8/site-packages/mlflow/utils/requirements_utils.py:345\u001b[0m, in \u001b[0;36m_infer_requirements\u001b[0;34m(model_uri, flavor)\u001b[0m\n\u001b[1;32m    <a href='file:///home/felipe/dev/predicao_churn/venv/lib/python3.8/site-packages/mlflow/utils/requirements_utils.py?line=341'>342</a>\u001b[0m \u001b[39mif\u001b[39;00m _PYPI_PACKAGE_INDEX \u001b[39mis\u001b[39;00m \u001b[39mNone\u001b[39;00m:\n\u001b[1;32m    <a href='file:///home/felipe/dev/predicao_churn/venv/lib/python3.8/site-packages/mlflow/utils/requirements_utils.py?line=342'>343</a>\u001b[0m     _PYPI_PACKAGE_INDEX \u001b[39m=\u001b[39m _load_pypi_package_index()\n\u001b[0;32m--> <a href='file:///home/felipe/dev/predicao_churn/venv/lib/python3.8/site-packages/mlflow/utils/requirements_utils.py?line=344'>345</a>\u001b[0m modules \u001b[39m=\u001b[39m _capture_imported_modules(model_uri, flavor)\n\u001b[1;32m    <a href='file:///home/felipe/dev/predicao_churn/venv/lib/python3.8/site-packages/mlflow/utils/requirements_utils.py?line=345'>346</a>\u001b[0m packages \u001b[39m=\u001b[39m _flatten([_MODULES_TO_PACKAGES\u001b[39m.\u001b[39mget(module, []) \u001b[39mfor\u001b[39;00m module \u001b[39min\u001b[39;00m modules])\n\u001b[1;32m    <a href='file:///home/felipe/dev/predicao_churn/venv/lib/python3.8/site-packages/mlflow/utils/requirements_utils.py?line=346'>347</a>\u001b[0m packages \u001b[39m=\u001b[39m \u001b[39mmap\u001b[39m(_normalize_package_name, packages)\n",
      "File \u001b[0;32m~/dev/predicao_churn/venv/lib/python3.8/site-packages/mlflow/utils/requirements_utils.py:266\u001b[0m, in \u001b[0;36m_capture_imported_modules\u001b[0;34m(model_uri, flavor)\u001b[0m\n\u001b[1;32m    <a href='file:///home/felipe/dev/predicao_churn/venv/lib/python3.8/site-packages/mlflow/utils/requirements_utils.py?line=263'>264</a>\u001b[0m \u001b[39mwith\u001b[39;00m tempfile\u001b[39m.\u001b[39mTemporaryDirectory() \u001b[39mas\u001b[39;00m tmpdir:\n\u001b[1;32m    <a href='file:///home/felipe/dev/predicao_churn/venv/lib/python3.8/site-packages/mlflow/utils/requirements_utils.py?line=264'>265</a>\u001b[0m     output_file \u001b[39m=\u001b[39m os\u001b[39m.\u001b[39mpath\u001b[39m.\u001b[39mjoin(tmpdir, \u001b[39m\"\u001b[39m\u001b[39mimported_modules.txt\u001b[39m\u001b[39m\"\u001b[39m)\n\u001b[0;32m--> <a href='file:///home/felipe/dev/predicao_churn/venv/lib/python3.8/site-packages/mlflow/utils/requirements_utils.py?line=265'>266</a>\u001b[0m     _run_command(\n\u001b[1;32m    <a href='file:///home/felipe/dev/predicao_churn/venv/lib/python3.8/site-packages/mlflow/utils/requirements_utils.py?line=266'>267</a>\u001b[0m         [\n\u001b[1;32m    <a href='file:///home/felipe/dev/predicao_churn/venv/lib/python3.8/site-packages/mlflow/utils/requirements_utils.py?line=267'>268</a>\u001b[0m             sys\u001b[39m.\u001b[39;49mexecutable,\n\u001b[1;32m    <a href='file:///home/felipe/dev/predicao_churn/venv/lib/python3.8/site-packages/mlflow/utils/requirements_utils.py?line=268'>269</a>\u001b[0m             _capture_modules\u001b[39m.\u001b[39;49m\u001b[39m__file__\u001b[39;49m,\n\u001b[1;32m    <a href='file:///home/felipe/dev/predicao_churn/venv/lib/python3.8/site-packages/mlflow/utils/requirements_utils.py?line=269'>270</a>\u001b[0m             \u001b[39m\"\u001b[39;49m\u001b[39m--model-path\u001b[39;49m\u001b[39m\"\u001b[39;49m,\n\u001b[1;32m    <a href='file:///home/felipe/dev/predicao_churn/venv/lib/python3.8/site-packages/mlflow/utils/requirements_utils.py?line=270'>271</a>\u001b[0m             local_model_path,\n\u001b[1;32m    <a href='file:///home/felipe/dev/predicao_churn/venv/lib/python3.8/site-packages/mlflow/utils/requirements_utils.py?line=271'>272</a>\u001b[0m             \u001b[39m\"\u001b[39;49m\u001b[39m--flavor\u001b[39;49m\u001b[39m\"\u001b[39;49m,\n\u001b[1;32m    <a href='file:///home/felipe/dev/predicao_churn/venv/lib/python3.8/site-packages/mlflow/utils/requirements_utils.py?line=272'>273</a>\u001b[0m             flavor,\n\u001b[1;32m    <a href='file:///home/felipe/dev/predicao_churn/venv/lib/python3.8/site-packages/mlflow/utils/requirements_utils.py?line=273'>274</a>\u001b[0m             \u001b[39m\"\u001b[39;49m\u001b[39m--output-file\u001b[39;49m\u001b[39m\"\u001b[39;49m,\n\u001b[1;32m    <a href='file:///home/felipe/dev/predicao_churn/venv/lib/python3.8/site-packages/mlflow/utils/requirements_utils.py?line=274'>275</a>\u001b[0m             output_file,\n\u001b[1;32m    <a href='file:///home/felipe/dev/predicao_churn/venv/lib/python3.8/site-packages/mlflow/utils/requirements_utils.py?line=275'>276</a>\u001b[0m             \u001b[39m\"\u001b[39;49m\u001b[39m--sys-path\u001b[39;49m\u001b[39m\"\u001b[39;49m,\n\u001b[1;32m    <a href='file:///home/felipe/dev/predicao_churn/venv/lib/python3.8/site-packages/mlflow/utils/requirements_utils.py?line=276'>277</a>\u001b[0m             json\u001b[39m.\u001b[39;49mdumps(sys\u001b[39m.\u001b[39;49mpath),\n\u001b[1;32m    <a href='file:///home/felipe/dev/predicao_churn/venv/lib/python3.8/site-packages/mlflow/utils/requirements_utils.py?line=277'>278</a>\u001b[0m         ],\n\u001b[1;32m    <a href='file:///home/felipe/dev/predicao_churn/venv/lib/python3.8/site-packages/mlflow/utils/requirements_utils.py?line=278'>279</a>\u001b[0m     )\n\u001b[1;32m    <a href='file:///home/felipe/dev/predicao_churn/venv/lib/python3.8/site-packages/mlflow/utils/requirements_utils.py?line=279'>280</a>\u001b[0m     \u001b[39mwith\u001b[39;00m \u001b[39mopen\u001b[39m(output_file) \u001b[39mas\u001b[39;00m f:\n\u001b[1;32m    <a href='file:///home/felipe/dev/predicao_churn/venv/lib/python3.8/site-packages/mlflow/utils/requirements_utils.py?line=280'>281</a>\u001b[0m         \u001b[39mreturn\u001b[39;00m f\u001b[39m.\u001b[39mread()\u001b[39m.\u001b[39msplitlines()\n",
      "File \u001b[0;32m~/dev/predicao_churn/venv/lib/python3.8/site-packages/mlflow/utils/requirements_utils.py:206\u001b[0m, in \u001b[0;36m_run_command\u001b[0;34m(cmd)\u001b[0m\n\u001b[1;32m    <a href='file:///home/felipe/dev/predicao_churn/venv/lib/python3.8/site-packages/mlflow/utils/requirements_utils.py?line=201'>202</a>\u001b[0m \u001b[39m\"\"\"\u001b[39;00m\n\u001b[1;32m    <a href='file:///home/felipe/dev/predicao_churn/venv/lib/python3.8/site-packages/mlflow/utils/requirements_utils.py?line=202'>203</a>\u001b[0m \u001b[39mRuns the specified command. If it exits with non-zero status, `MlflowException` is raised.\u001b[39;00m\n\u001b[1;32m    <a href='file:///home/felipe/dev/predicao_churn/venv/lib/python3.8/site-packages/mlflow/utils/requirements_utils.py?line=203'>204</a>\u001b[0m \u001b[39m\"\"\"\u001b[39;00m\n\u001b[1;32m    <a href='file:///home/felipe/dev/predicao_churn/venv/lib/python3.8/site-packages/mlflow/utils/requirements_utils.py?line=204'>205</a>\u001b[0m proc \u001b[39m=\u001b[39m subprocess\u001b[39m.\u001b[39mPopen(cmd, stdout\u001b[39m=\u001b[39msubprocess\u001b[39m.\u001b[39mPIPE, stderr\u001b[39m=\u001b[39msubprocess\u001b[39m.\u001b[39mPIPE)\n\u001b[0;32m--> <a href='file:///home/felipe/dev/predicao_churn/venv/lib/python3.8/site-packages/mlflow/utils/requirements_utils.py?line=205'>206</a>\u001b[0m stdout, stderr \u001b[39m=\u001b[39m proc\u001b[39m.\u001b[39;49mcommunicate()\n\u001b[1;32m    <a href='file:///home/felipe/dev/predicao_churn/venv/lib/python3.8/site-packages/mlflow/utils/requirements_utils.py?line=206'>207</a>\u001b[0m stdout \u001b[39m=\u001b[39m stdout\u001b[39m.\u001b[39mdecode(\u001b[39m\"\u001b[39m\u001b[39mutf-8\u001b[39m\u001b[39m\"\u001b[39m)\n\u001b[1;32m    <a href='file:///home/felipe/dev/predicao_churn/venv/lib/python3.8/site-packages/mlflow/utils/requirements_utils.py?line=207'>208</a>\u001b[0m stderr \u001b[39m=\u001b[39m stderr\u001b[39m.\u001b[39mdecode(\u001b[39m\"\u001b[39m\u001b[39mutf-8\u001b[39m\u001b[39m\"\u001b[39m)\n",
      "File \u001b[0;32m/usr/lib/python3.8/subprocess.py:1028\u001b[0m, in \u001b[0;36mPopen.communicate\u001b[0;34m(self, input, timeout)\u001b[0m\n\u001b[1;32m   <a href='file:///usr/lib/python3.8/subprocess.py?line=1024'>1025</a>\u001b[0m     endtime \u001b[39m=\u001b[39m \u001b[39mNone\u001b[39;00m\n\u001b[1;32m   <a href='file:///usr/lib/python3.8/subprocess.py?line=1026'>1027</a>\u001b[0m \u001b[39mtry\u001b[39;00m:\n\u001b[0;32m-> <a href='file:///usr/lib/python3.8/subprocess.py?line=1027'>1028</a>\u001b[0m     stdout, stderr \u001b[39m=\u001b[39m \u001b[39mself\u001b[39;49m\u001b[39m.\u001b[39;49m_communicate(\u001b[39minput\u001b[39;49m, endtime, timeout)\n\u001b[1;32m   <a href='file:///usr/lib/python3.8/subprocess.py?line=1028'>1029</a>\u001b[0m \u001b[39mexcept\u001b[39;00m \u001b[39mKeyboardInterrupt\u001b[39;00m:\n\u001b[1;32m   <a href='file:///usr/lib/python3.8/subprocess.py?line=1029'>1030</a>\u001b[0m     \u001b[39m# https://bugs.python.org/issue25942\u001b[39;00m\n\u001b[1;32m   <a href='file:///usr/lib/python3.8/subprocess.py?line=1030'>1031</a>\u001b[0m     \u001b[39m# See the detailed comment in .wait().\u001b[39;00m\n\u001b[1;32m   <a href='file:///usr/lib/python3.8/subprocess.py?line=1031'>1032</a>\u001b[0m     \u001b[39mif\u001b[39;00m timeout \u001b[39mis\u001b[39;00m \u001b[39mnot\u001b[39;00m \u001b[39mNone\u001b[39;00m:\n",
      "File \u001b[0;32m/usr/lib/python3.8/subprocess.py:1868\u001b[0m, in \u001b[0;36mPopen._communicate\u001b[0;34m(self, input, endtime, orig_timeout)\u001b[0m\n\u001b[1;32m   <a href='file:///usr/lib/python3.8/subprocess.py?line=1860'>1861</a>\u001b[0m     \u001b[39mself\u001b[39m\u001b[39m.\u001b[39m_check_timeout(endtime, orig_timeout,\n\u001b[1;32m   <a href='file:///usr/lib/python3.8/subprocess.py?line=1861'>1862</a>\u001b[0m                         stdout, stderr,\n\u001b[1;32m   <a href='file:///usr/lib/python3.8/subprocess.py?line=1862'>1863</a>\u001b[0m                         skip_check_and_raise\u001b[39m=\u001b[39m\u001b[39mTrue\u001b[39;00m)\n\u001b[1;32m   <a href='file:///usr/lib/python3.8/subprocess.py?line=1863'>1864</a>\u001b[0m     \u001b[39mraise\u001b[39;00m \u001b[39mRuntimeError\u001b[39;00m(  \u001b[39m# Impossible :)\u001b[39;00m\n\u001b[1;32m   <a href='file:///usr/lib/python3.8/subprocess.py?line=1864'>1865</a>\u001b[0m         \u001b[39m'\u001b[39m\u001b[39m_check_timeout(..., skip_check_and_raise=True) \u001b[39m\u001b[39m'\u001b[39m\n\u001b[1;32m   <a href='file:///usr/lib/python3.8/subprocess.py?line=1865'>1866</a>\u001b[0m         \u001b[39m'\u001b[39m\u001b[39mfailed to raise TimeoutExpired.\u001b[39m\u001b[39m'\u001b[39m)\n\u001b[0;32m-> <a href='file:///usr/lib/python3.8/subprocess.py?line=1867'>1868</a>\u001b[0m ready \u001b[39m=\u001b[39m selector\u001b[39m.\u001b[39;49mselect(timeout)\n\u001b[1;32m   <a href='file:///usr/lib/python3.8/subprocess.py?line=1868'>1869</a>\u001b[0m \u001b[39mself\u001b[39m\u001b[39m.\u001b[39m_check_timeout(endtime, orig_timeout, stdout, stderr)\n\u001b[1;32m   <a href='file:///usr/lib/python3.8/subprocess.py?line=1870'>1871</a>\u001b[0m \u001b[39m# XXX Rewrite these to use non-blocking I/O on the file\u001b[39;00m\n\u001b[1;32m   <a href='file:///usr/lib/python3.8/subprocess.py?line=1871'>1872</a>\u001b[0m \u001b[39m# objects; they are no longer using C stdio!\u001b[39;00m\n",
      "File \u001b[0;32m/usr/lib/python3.8/selectors.py:415\u001b[0m, in \u001b[0;36m_PollLikeSelector.select\u001b[0;34m(self, timeout)\u001b[0m\n\u001b[1;32m    <a href='file:///usr/lib/python3.8/selectors.py?line=412'>413</a>\u001b[0m ready \u001b[39m=\u001b[39m []\n\u001b[1;32m    <a href='file:///usr/lib/python3.8/selectors.py?line=413'>414</a>\u001b[0m \u001b[39mtry\u001b[39;00m:\n\u001b[0;32m--> <a href='file:///usr/lib/python3.8/selectors.py?line=414'>415</a>\u001b[0m     fd_event_list \u001b[39m=\u001b[39m \u001b[39mself\u001b[39;49m\u001b[39m.\u001b[39;49m_selector\u001b[39m.\u001b[39;49mpoll(timeout)\n\u001b[1;32m    <a href='file:///usr/lib/python3.8/selectors.py?line=415'>416</a>\u001b[0m \u001b[39mexcept\u001b[39;00m \u001b[39mInterruptedError\u001b[39;00m:\n\u001b[1;32m    <a href='file:///usr/lib/python3.8/selectors.py?line=416'>417</a>\u001b[0m     \u001b[39mreturn\u001b[39;00m ready\n",
      "\u001b[0;31mKeyboardInterrupt\u001b[0m: "
     ]
    }
   ],
   "source": [
    "for i in all_class:\n",
    "    pipeline.steps.append(('classifier', i))\n",
    "\n",
    "    try:\n",
    "        pipeline.fit(X_train, y_train)\n",
    "        y_pred = pipeline.predict(X_test)\n",
    "\n",
    "        print(i)\n",
    "        printAndSave(pipeline, X_test, y_test, y_pred)\n",
    "    except Exception as e:\n",
    "        print(e)\n",
    "    \n",
    "    pipeline.steps.remove(('classifier', i))\n"
   ]
  }
 ],
 "metadata": {
  "interpreter": {
   "hash": "60683c818ea6f768f811ad5f90736ebd9ed15f5ee0114937570dcd60c186bf40"
  },
  "kernelspec": {
   "display_name": "Python 3.8.10 ('venv': venv)",
   "language": "python",
   "name": "python3"
  },
  "language_info": {
   "codemirror_mode": {
    "name": "ipython",
    "version": 3
   },
   "file_extension": ".py",
   "mimetype": "text/x-python",
   "name": "python",
   "nbconvert_exporter": "python",
   "pygments_lexer": "ipython3",
   "version": "3.8.10"
  },
  "orig_nbformat": 4
 },
 "nbformat": 4,
 "nbformat_minor": 2
}
