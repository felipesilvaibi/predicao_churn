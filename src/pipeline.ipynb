{
 "cells": [
  {
   "cell_type": "markdown",
   "metadata": {},
   "source": [
    "## Importação de bibliotecas"
   ]
  },
  {
   "cell_type": "code",
   "execution_count": 2,
   "metadata": {},
   "outputs": [],
   "source": [
    "from sklearn.neighbors import KNeighborsClassifier\n",
    "from sklearn.neural_network import MLPClassifier\n",
    "from imblearn.over_sampling import SMOTE\n",
    "import datetime\n",
    "import warnings\n",
    "warnings.filterwarnings('ignore')\n",
    "\n",
    "import re\n",
    "import numpy as np\n",
    "import pandas as pd\n",
    "import matplotlib.pyplot as plt\n",
    "\n",
    "from unidecode import unidecode\n",
    "\n",
    "from sklearn.preprocessing import RobustScaler\n",
    "from sklearn.model_selection import train_test_split\n",
    "from sklearn.ensemble import RandomForestClassifier, GradientBoostingClassifier\n",
    "from sklearn.metrics import plot_roc_curve\n",
    "\n",
    "from sklearn.metrics import plot_confusion_matrix, f1_score, accuracy_score, precision_score, recall_score"
   ]
  },
  {
   "cell_type": "markdown",
   "metadata": {},
   "source": [
    "## Carregamento do dataset"
   ]
  },
  {
   "cell_type": "code",
   "execution_count": 3,
   "metadata": {},
   "outputs": [],
   "source": [
    "df = pd.read_feather('../data/carteira_total.feather')\n"
   ]
  },
  {
   "cell_type": "markdown",
   "metadata": {},
   "source": [
    "## Data Preparation"
   ]
  },
  {
   "cell_type": "markdown",
   "metadata": {},
   "source": [
    "### Correção da nomenclatura das colunas"
   ]
  },
  {
   "cell_type": "code",
   "execution_count": 4,
   "metadata": {},
   "outputs": [],
   "source": [
    "newColumnsName = []\n",
    "for column_name in df:\n",
    "  newColumnsName.append(\n",
    "      re.sub('[^A-Za-z0-9]+', '_', unidecode(column_name).lower()))\n",
    "df.columns = newColumnsName\n"
   ]
  },
  {
   "cell_type": "markdown",
   "metadata": {},
   "source": [
    "### Criação da variável target"
   ]
  },
  {
   "cell_type": "code",
   "execution_count": 5,
   "metadata": {},
   "outputs": [],
   "source": [
    "df[\"upsale_downsale\"].replace(\n",
    "    {\"Churn\": \"churn\", \"Upsell\": \"upsell\", \"Downsell\": \"downsell\", \"Ok\": \"ok\"}, inplace=True)\n",
    "df['churn'] = df['upsale_downsale']\n",
    "df['churn'].replace(\n",
    "    {\"ok\": \"0\", \"upsell\": \"0\", \"downsell\": \"0\", \"churn\": \"1\"}, inplace=True)\n",
    "\n",
    "df.drop(columns=[\"upsale_downsale\"], inplace=True)\n"
   ]
  },
  {
   "cell_type": "markdown",
   "metadata": {},
   "source": [
    "### Criação da variável \"quantidades mês\" (feature engeneering com a variável nativa \"mês\")"
   ]
  },
  {
   "cell_type": "code",
   "execution_count": 6,
   "metadata": {},
   "outputs": [],
   "source": [
    "df_grouped = df[['mes', 'id_sap']].groupby(['id_sap']).count().reset_index()\n",
    "\n",
    "df_grouped.rename(columns = {'mes':'quantidade_mes'}, inplace=True)"
   ]
  },
  {
   "cell_type": "code",
   "execution_count": 7,
   "metadata": {},
   "outputs": [],
   "source": [
    "df = df.join(df_grouped.set_index('id_sap'), on='id_sap')"
   ]
  },
  {
   "cell_type": "markdown",
   "metadata": {},
   "source": [
    "### Criação da variável \"status_pagamento\" (feature engeneering utilizando fonte de dados externa)"
   ]
  },
  {
   "cell_type": "code",
   "execution_count": 8,
   "metadata": {},
   "outputs": [],
   "source": [
    "xls = pd.ExcelFile('../data/quality_score.xlsx')\n",
    "xls.sheet_names\n",
    "\n",
    "i = 0\n",
    "for data in xls.sheet_names:\n",
    "    if i == 0:\n",
    "        dfQuality = pd.read_excel(xls, data)\n",
    "        dfQuality['data'] = data\n",
    "        dfQuality.rename(columns={'Classificação Pagamento': 'status_pagamento', 'Quality Score Cobrança': 'status_pagamento',\n",
    "                                  'PFIN': 'status_pagamento', 'PEFIN': 'status_pagamento'}, inplace=True)\n",
    "    else:\n",
    "        dfQualityAux = pd.read_excel(xls, data)\n",
    "        dfQualityAux['data'] = data\n",
    "        dfQualityAux.rename(columns={'Classificação Pagamento': 'status_pagamento', 'Quality Score Cobrança': 'status_pagamento',\n",
    "                                     'PFIN': 'status_pagamento', 'PEFIN': 'status_pagamento'}, inplace=True)\n",
    "\n",
    "        dfQuality = pd.concat([dfQuality, dfQualityAux])\n",
    "\n",
    "    i+=1"
   ]
  },
  {
   "cell_type": "code",
   "execution_count": 9,
   "metadata": {},
   "outputs": [],
   "source": [
    "dfQuality['status_pagamento'].replace({'4. Péssimo': 'Pessimo', '2. Regular ': 'Regular', '1. Bom': 'Bom', '3. Ruim': 'Ruim', '5. Novo': 'Novo',\n",
    "                                       '2. Regular': 'Regular', '1. Bom ': 'Bom', 'lançamentos': np.nan, '5. novo': 'Novo', 0: np.nan}, inplace=True)\n"
   ]
  },
  {
   "cell_type": "code",
   "execution_count": 10,
   "metadata": {},
   "outputs": [],
   "source": [
    "dfQuality.dropna(inplace=True)\n"
   ]
  },
  {
   "cell_type": "code",
   "execution_count": 11,
   "metadata": {},
   "outputs": [],
   "source": [
    "regex = r'([0-9]{4})-([0-9]{2})-[0-9]{2}'\n",
    "\n",
    "\n",
    "def fun_replace(data):\n",
    "    return datetime.datetime.strptime(str(data.group(2)).lower(), '%m').strftime('%b').lower() + data.group(1)[-2:]\n",
    "\n",
    "\n",
    "df['mes'] = df['mes'].astype(str).str.replace(regex, fun_replace, regex=True)\n"
   ]
  },
  {
   "cell_type": "code",
   "execution_count": 12,
   "metadata": {},
   "outputs": [],
   "source": [
    "dfQuality.rename(columns={'ID SAP': 'id_sap', 'data': 'mes'}, inplace=True)\n"
   ]
  },
  {
   "cell_type": "code",
   "execution_count": 13,
   "metadata": {},
   "outputs": [],
   "source": [
    "df = df.join(dfQuality.set_index(['id_sap', 'mes']), on=['id_sap', 'mes'])\n"
   ]
  },
  {
   "cell_type": "markdown",
   "metadata": {},
   "source": [
    "### Correção dos valores de colunas categóricas"
   ]
  },
  {
   "cell_type": "code",
   "execution_count": 14,
   "metadata": {},
   "outputs": [],
   "source": [
    "df['oficina'].replace({'wi': 'WI'}, inplace=True)"
   ]
  },
  {
   "cell_type": "code",
   "execution_count": 15,
   "metadata": {},
   "outputs": [],
   "source": [
    "df['frequencia_de_faturamento'] = df['frequencia_de_faturamento'].str.lower()\n"
   ]
  },
  {
   "cell_type": "code",
   "execution_count": 16,
   "metadata": {},
   "outputs": [],
   "source": [
    "df['frequencia_de_faturamento'] = df['frequencia_de_faturamento'].str.strip()\n"
   ]
  },
  {
   "cell_type": "code",
   "execution_count": 17,
   "metadata": {},
   "outputs": [],
   "source": [
    "df['frequencia_de_faturamento'].replace(\n",
    "    {'única vez': 'unica_vez'}, inplace=True)\n"
   ]
  },
  {
   "cell_type": "code",
   "execution_count": 18,
   "metadata": {},
   "outputs": [],
   "source": [
    "df['equipe'].replace({'Relacionamento': 'RELACIONAMENTO', 'Jumbo': 'JUMBO',\n",
    "                     'Resellers': 'RESELLERS', 'Regional DF': 'REGIONAL DF'}, inplace=True)\n"
   ]
  },
  {
   "cell_type": "markdown",
   "metadata": {},
   "source": [
    "### Drop de colunas com valores inutilizáveis"
   ]
  },
  {
   "cell_type": "code",
   "execution_count": 19,
   "metadata": {},
   "outputs": [],
   "source": [
    "df.drop(['contratado_freemium', 'utilizado_freemium'], axis=1, inplace=True)\n"
   ]
  },
  {
   "cell_type": "markdown",
   "metadata": {},
   "source": [
    "### Tratamento de valores nulos"
   ]
  },
  {
   "cell_type": "code",
   "execution_count": 20,
   "metadata": {},
   "outputs": [],
   "source": [
    "numericalColumns = df.select_dtypes(include=np.number)\n",
    "\n",
    "df = df[df['status_pagamento'].notna()]\n",
    "df[numericalColumns.columns] = numericalColumns.fillna(\n",
    "    numericalColumns.median())\n",
    "\n",
    "for col in numericalColumns:\n",
    "    df[col][df[col] < 1] = 1\n"
   ]
  },
  {
   "cell_type": "markdown",
   "metadata": {},
   "source": [
    "### Seleção das colunas mais significativas"
   ]
  },
  {
   "cell_type": "code",
   "execution_count": 21,
   "metadata": {},
   "outputs": [],
   "source": [
    "df = df[['pf_pj', 'contratado_ofertas_simples', 'utilizado_ofertas_simples',\n",
    "         'leads_form', 'equipe', 'utilizado_destaque', 'valor_mensal',\n",
    "         'quantidade_mes', 'status_pagamento', 'churn', 'regiao', 'oficina', 'tipo_de_plano', 'frequencia_de_faturamento']]"
   ]
  },
  {
   "cell_type": "markdown",
   "metadata": {},
   "source": [
    "## Modeling"
   ]
  },
  {
   "cell_type": "markdown",
   "metadata": {},
   "source": [
    "### Tratamento de variáveis categóricas"
   ]
  },
  {
   "cell_type": "code",
   "execution_count": 22,
   "metadata": {},
   "outputs": [],
   "source": [
    "dummy_df = pd.get_dummies(df[[\n",
    "    'pf_pj', 'equipe', 'status_pagamento', 'regiao', 'oficina', 'tipo_de_plano', 'frequencia_de_faturamento']], drop_first=True)\n",
    "df = df.join(dummy_df)\n",
    "df.drop(columns=['pf_pj', 'equipe', 'status_pagamento', 'regiao',\n",
    "        'oficina', 'tipo_de_plano', 'frequencia_de_faturamento'], inplace=True)\n"
   ]
  },
  {
   "cell_type": "markdown",
   "metadata": {},
   "source": [
    "### Data split"
   ]
  },
  {
   "cell_type": "code",
   "execution_count": 23,
   "metadata": {},
   "outputs": [],
   "source": [
    "X = df.drop(['churn'], axis=1)\n",
    "y = df['churn'].astype(int)\n",
    "\n",
    "X_train, X_test, y_train, y_test = train_test_split(\n",
    "    X, y, test_size=0.2, random_state=1)\n",
    "\n",
    "X_train = pd.DataFrame(X_train, columns=X_train.columns)\n",
    "y_train = pd.Series(y_train)\n",
    "\n",
    "X_train, X_val, y_train, y_val = train_test_split(\n",
    "    X_train, y_train, test_size=0.25, random_state=1)  # 0.25 x 0.8 = 0.2\n"
   ]
  },
  {
   "cell_type": "markdown",
   "metadata": {},
   "source": [
    "### Tratamento de dados numéricos"
   ]
  },
  {
   "cell_type": "code",
   "execution_count": 24,
   "metadata": {},
   "outputs": [],
   "source": [
    "def trataDados(df_dados, target):\n",
    "    # Balanceamento dos dados\n",
    "    sm = SMOTE(sampling_strategy='minority', random_state=7)\n",
    "    df_dados, target = sm.fit_resample(df_dados, target.filter(df_dados.index))\n",
    "\n",
    "    # Normalização dos dados\n",
    "    numericalColumns = ['contratado_ofertas_simples', 'utilizado_ofertas_simples', 'leads_form',\n",
    "                        'utilizado_destaque', 'valor_mensal', 'quantidade_mes']\n",
    "    df_dados[numericalColumns] = RobustScaler(\n",
    "    ).fit_transform(df_dados[numericalColumns])\n",
    "\n",
    "    return df_dados, target\n"
   ]
  },
  {
   "cell_type": "code",
   "execution_count": 25,
   "metadata": {},
   "outputs": [],
   "source": [
    "X_train, y_train = trataDados(X_train, y_train)\n",
    "X_val, y_val = trataDados(X_val, y_val)\n",
    "X_test, y_test = trataDados(X_test, y_test)\n"
   ]
  },
  {
   "cell_type": "markdown",
   "metadata": {},
   "source": [
    "### Execução do Modelo"
   ]
  },
  {
   "cell_type": "code",
   "execution_count": 26,
   "metadata": {},
   "outputs": [],
   "source": [
    "def executeModel(model, X_train, y_train, X_test, y_test):\n",
    "    model.fit(X_train, y=y_train)\n",
    "\n",
    "    predictDataSet = model.predict(X_test)\n",
    "\n",
    "    f1 = round(f1_score(y_test, predictDataSet, average='macro')*100, 2)\n",
    "    accuracy = round(accuracy_score(y_test, predictDataSet)*100, 2)\n",
    "    precision = round(precision_score(y_test, predictDataSet)*100, 2)\n",
    "    recall = round(recall_score(y_test, predictDataSet)*100, 2)\n",
    "\n",
    "    print(f\"F1 Score: {f1}%\")\n",
    "    print(f\"Accuracy Score: {accuracy}%\")\n",
    "    print(f\"Precision Score: {precision}%\")\n",
    "    print(f\"Recall Score: {recall}%\")\n",
    "\n",
    "    plot_confusion_matrix(model, X_test, y_test, display_labels=[\n",
    "        \"positivo\", \"negativo\"], values_format=\"d\")\n",
    "    plt.grid(False)\n",
    "    plt.show()\n",
    "\n",
    "    plot_roc_curve(model, X_test, y_test)\n",
    "    plt.show()\n"
   ]
  },
  {
   "cell_type": "code",
   "execution_count": 27,
   "metadata": {},
   "outputs": [
    {
     "name": "stdout",
     "output_type": "stream",
     "text": [
      "Random Forest\n",
      "------------------------------\n",
      "F1 Score: 89.46%\n",
      "Accuracy Score: 89.47%\n",
      "Precision Score: 91.96%\n",
      "Recall Score: 86.5%\n"
     ]
    },
    {
     "data": {
      "image/png": "[encoded data removed]",
      "text/plain": [
       "<Figure size 432x288 with 2 Axes>"
      ]
     },
     "metadata": {
      "needs_background": "light"
     },
     "output_type": "display_data"
    },
    {
     "data": {
      "image/png": "[encoded data removed]",
      "text/plain": [
       "<Figure size 432x288 with 1 Axes>"
      ]
     },
     "metadata": {
      "needs_background": "light"
     },
     "output_type": "display_data"
    },
    {
     "name": "stdout",
     "output_type": "stream",
     "text": [
      "\n",
      "Gradient Boosting\n",
      "------------------------------\n",
      "F1 Score: 88.6%\n",
      "Accuracy Score: 88.62%\n",
      "Precision Score: 85.49%\n",
      "Recall Score: 93.02%\n"
     ]
    },
    {
     "data": {
      "image/png": "[encoded data removed]",
      "text/plain": [
       "<Figure size 432x288 with 2 Axes>"
      ]
     },
     "metadata": {
      "needs_background": "light"
     },
     "output_type": "display_data"
    },
    {
     "data": {
      "image/png": "[encoded data removed]",
      "text/plain": [
       "<Figure size 432x288 with 1 Axes>"
      ]
     },
     "metadata": {
      "needs_background": "light"
     },
     "output_type": "display_data"
    },
    {
     "name": "stdout",
     "output_type": "stream",
     "text": [
      "\n",
      "Multilayer Perceptron\n",
      "------------------------------\n",
      "Iteration 1, loss = 0.35079312\n",
      "Iteration 2, loss = 0.24163514\n",
      "Iteration 3, loss = 0.23658298\n",
      "Iteration 4, loss = 0.23187912\n",
      "Iteration 5, loss = 0.22914637\n",
      "Iteration 6, loss = 0.22765960\n",
      "Iteration 7, loss = 0.22240383\n",
      "Iteration 8, loss = 0.22110828\n",
      "Iteration 9, loss = 0.22150995\n",
      "Iteration 10, loss = 0.21721521\n",
      "Iteration 11, loss = 0.21812671\n",
      "Iteration 12, loss = 0.21660841\n",
      "Iteration 13, loss = 0.21463052\n",
      "Iteration 14, loss = 0.21663670\n",
      "Iteration 15, loss = 0.21506242\n",
      "Iteration 16, loss = 0.21494938\n",
      "Iteration 17, loss = 0.21356931\n",
      "Iteration 18, loss = 0.21081665\n",
      "Iteration 19, loss = 0.21235876\n",
      "Iteration 20, loss = 0.21173956\n",
      "Iteration 21, loss = 0.21108871\n",
      "Iteration 22, loss = 0.20955401\n",
      "Iteration 23, loss = 0.20892902\n",
      "Iteration 24, loss = 0.20917571\n",
      "Iteration 25, loss = 0.21123029\n",
      "Iteration 26, loss = 0.21123372\n",
      "Iteration 27, loss = 0.20955712\n",
      "Iteration 28, loss = 0.20696017\n",
      "Iteration 29, loss = 0.20767659\n",
      "Iteration 30, loss = 0.20836153\n",
      "Iteration 31, loss = 0.20919287\n",
      "Iteration 32, loss = 0.20764545\n",
      "Iteration 33, loss = 0.20665264\n",
      "Iteration 34, loss = 0.20781921\n",
      "Iteration 35, loss = 0.20706891\n",
      "Iteration 36, loss = 0.20898692\n",
      "Iteration 37, loss = 0.20766295\n",
      "Iteration 38, loss = 0.20748603\n",
      "Iteration 39, loss = 0.20597501\n",
      "Iteration 40, loss = 0.20672842\n",
      "Iteration 41, loss = 0.20748176\n",
      "Iteration 42, loss = 0.21000463\n",
      "Iteration 43, loss = 0.20724792\n",
      "Iteration 44, loss = 0.20775655\n",
      "Iteration 45, loss = 0.20567163\n",
      "Iteration 46, loss = 0.20588966\n",
      "Iteration 47, loss = 0.20928400\n",
      "Iteration 48, loss = 0.20849201\n",
      "Iteration 49, loss = 0.20701675\n",
      "Iteration 50, loss = 0.20689038\n",
      "Iteration 51, loss = 0.20727660\n",
      "Iteration 52, loss = 0.20586817\n",
      "Iteration 53, loss = 0.20590114\n",
      "Iteration 54, loss = 0.20539410\n",
      "Iteration 55, loss = 0.20735715\n",
      "Iteration 56, loss = 0.20599773\n",
      "Iteration 57, loss = 0.20519733\n",
      "Iteration 58, loss = 0.20660298\n",
      "Iteration 59, loss = 0.20692763\n",
      "Iteration 60, loss = 0.20442650\n",
      "Iteration 61, loss = 0.20559002\n",
      "Iteration 62, loss = 0.20529004\n",
      "Iteration 63, loss = 0.20482072\n",
      "Iteration 64, loss = 0.20524272\n",
      "Iteration 65, loss = 0.20655046\n",
      "Iteration 66, loss = 0.20644033\n",
      "Iteration 67, loss = 0.20649003\n",
      "Iteration 68, loss = 0.20551431\n",
      "Iteration 69, loss = 0.20550726\n",
      "Iteration 70, loss = 0.20537280\n",
      "Iteration 71, loss = 0.20532292\n",
      "Training loss did not improve more than tol=0.000100 for 10 consecutive epochs. Stopping.\n",
      "F1 Score: 90.11%\n",
      "Accuracy Score: 90.12%\n",
      "Precision Score: 88.59%\n",
      "Recall Score: 92.09%\n"
     ]
    },
    {
     "data": {
      "image/png": "[encoded data removed]",
      "text/plain": [
       "<Figure size 432x288 with 2 Axes>"
      ]
     },
     "metadata": {
      "needs_background": "light"
     },
     "output_type": "display_data"
    },
    {
     "data": {
      "image/png": "[encoded data removed]",
      "text/plain": [
       "<Figure size 432x288 with 1 Axes>"
      ]
     },
     "metadata": {
      "needs_background": "light"
     },
     "output_type": "display_data"
    },
    {
     "name": "stdout",
     "output_type": "stream",
     "text": [
      "\n",
      "KNN\n",
      "------------------------------\n",
      "F1 Score: 86.4%\n",
      "Accuracy Score: 86.4%\n",
      "Precision Score: 87.52%\n",
      "Recall Score: 84.91%\n"
     ]
    },
    {
     "data": {
      "image/png": "[encoded data removed]",
      "text/plain": [
       "<Figure size 432x288 with 2 Axes>"
      ]
     },
     "metadata": {
      "needs_background": "light"
     },
     "output_type": "display_data"
    },
    {
     "data": {
      "image/png": "[encoded data removed]",
      "text/plain": [
       "<Figure size 432x288 with 1 Axes>"
      ]
     },
     "metadata": {
      "needs_background": "light"
     },
     "output_type": "display_data"
    }
   ],
   "source": [
    "print('Random Forest')\n",
    "print('-' * 30)\n",
    "executeModel(RandomForestClassifier(n_jobs=-1, random_state=1),\n",
    "             X_train, y_train, X_val, y_val)\n",
    "print()\n",
    "print('Gradient Boosting')\n",
    "print('-' * 30)\n",
    "executeModel(GradientBoostingClassifier(\n",
    "    random_state=1), X_train, y_train, X_val, y_val)\n",
    "print()\n",
    "print('Multilayer Perceptron')\n",
    "print('-' * 30)\n",
    "executeModel(MLPClassifier(hidden_layer_sizes=(6, 5),\n",
    "                           random_state=1,\n",
    "                           verbose=True,\n",
    "                           learning_rate_init=0.01), X_train, y_train, X_val, y_val)\n",
    "print()\n",
    "print('KNN')\n",
    "print('-' * 30)\n",
    "executeModel(KNeighborsClassifier(n_neighbors=7),\n",
    "             X_train, y_train, X_val, y_val)\n"
   ]
  }
 ],
 "metadata": {
  "interpreter": {
   "hash": "60683c818ea6f768f811ad5f90736ebd9ed15f5ee0114937570dcd60c186bf40"
  },
  "kernelspec": {
   "display_name": "Python 3.8.10 ('venv': venv)",
   "language": "python",
   "name": "python3"
  },
  "language_info": {
   "codemirror_mode": {
    "name": "ipython",
    "version": 3
   },
   "file_extension": ".py",
   "mimetype": "text/x-python",
   "name": "python",
   "nbconvert_exporter": "python",
   "pygments_lexer": "ipython3",
   "version": "3.8.10"
  },
  "orig_nbformat": 4
 },
 "nbformat": 4,
 "nbformat_minor": 2
}
